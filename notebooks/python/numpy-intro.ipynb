{
 "cells": [
  {
   "cell_type": "raw",
   "metadata": {},
   "source": [
    "---\n",
    "layout: notebook\n",
    "toc: true\n",
    "title: numpy入門\n",
    "published: 2019-11-28\n",
    "last_edit: 2019-11-28\n",
    "---"
   ]
  },
  {
   "cell_type": "markdown",
   "metadata": {},
   "source": [
    "機械学習や深層学習だけではなく、いろいろな場面で数値計算というのが必要になったり、あるいはただ便利だったりします。pythonで数値計算をしたい時は、pythonだけで足りる場合もありますが、少し高度な数学になるとnumpy（ナムパイ、或いはナムピー）というライブラリーのありがたさがわかります。今回はnumpyについて、基礎的な概念といくつか便利な関数を紹介していきます。"
   ]
  },
  {
   "cell_type": "markdown",
   "metadata": {},
   "source": [
    "# 前提知識・準備\n",
    "\n",
    "{% assign lnk = site.python | where: \"url\", \"/python/python_intro.html\" | first %}\n",
    "- [{{ lnk.title }}]({{ lnk.url | relative_url }})\n",
    "- numpyが使えるようになっている"
   ]
  },
  {
   "cell_type": "markdown",
   "metadata": {},
   "source": [
    "# numpyを使うには\n",
    "\n",
    "numpyはライブラリーなので、使いたいときはそれを宣言する必要があります（もちろんその前にインストールが必要です）。ここで、pythonでのライブラリー宣言、すなわち`import`文について簡単な説明をします。\n",
    "\n",
    "まず、ライブラリーを宣言したい時はそのまま`import ライブラリー名`と書けばいいです。今回の場合はnumpyを使いたいので、次を書きましょう："
   ]
  },
  {
   "cell_type": "code",
   "execution_count": 1,
   "metadata": {},
   "outputs": [
    {
     "data": {
      "text/plain": [
       "3.141592653589793"
      ]
     },
     "execution_count": 1,
     "metadata": {},
     "output_type": "execute_result"
    }
   ],
   "source": [
    "import numpy\n",
    "numpy.pi"
   ]
  },
  {
   "cell_type": "markdown",
   "metadata": {},
   "source": [
    "簡単ですね。\n",
    "\n",
    "ライブラリーの中に入っている定数や関すを使いたい時は、上記のようにライブラリー名を書かなければいけません。一般的にnumpyは頻繁に使われ、毎回`numpy.何か`と書くのがめんどくさいので、`numpy`を`np`に**rename**することができます。そのためには次のように`import`文を変えます。"
   ]
  },
  {
   "cell_type": "code",
   "execution_count": 2,
   "metadata": {},
   "outputs": [
    {
     "data": {
      "text/plain": [
       "3.141592653589793"
      ]
     },
     "execution_count": 2,
     "metadata": {},
     "output_type": "execute_result"
    }
   ],
   "source": [
    "import numpy as np\n",
    "np.pi"
   ]
  },
  {
   "cell_type": "markdown",
   "metadata": {},
   "source": [
    "`import numpy as`の後ろは好きな名前を付けてもいいのですが、一般的にnumpyはnpと略されることが多いので、今後もその略し方を採用します。ただし、ドキュメンテーションや、コードではない文脈では、`np.何か`ではなく`numpy.何か`と書くことにします。なぜなら、コードでは略し方げ明記されていますが、一般的に話す時には紛らわしうなるからです。"
   ]
  },
  {
   "cell_type": "markdown",
   "metadata": {},
   "source": [
    "# pythonの配列とnumpyの配列\n",
    "\n",
    "pythonでは`arr = [1, 2, 3]`のように配列を定義します。しかし、pythonの配列は当然プログラミングの世界で使う配列の性質や機能を持っていて、数値計算には向いていません。例えば、2つのベクトルを`a = [1, 2, 3]`と`b = [2, 3, 4]`と定義したとき、数学ではそれらを足し算できますが、pythonでは足し算ができません。試してみましょう。"
   ]
  },
  {
   "cell_type": "code",
   "execution_count": 3,
   "metadata": {},
   "outputs": [
    {
     "data": {
      "text/plain": [
       "[1, 2, 3, 2, 3, 4]"
      ]
     },
     "execution_count": 3,
     "metadata": {},
     "output_type": "execute_result"
    }
   ],
   "source": [
    "a = [1, 2, 3]\n",
    "b = [2, 3, 4]\n",
    "a + b"
   ]
  },
  {
   "cell_type": "markdown",
   "metadata": {},
   "source": [
    "エラーが出ると思いきや、配列が連接されました。一般的なプログラミングでは、ベクトルの足し算よりこのような使い方が多いので、pythonを作った人たちはこの仕様を採用したのです。\n",
    "\n",
    "足し算に関してはたまたま意味的に似た動作があったのですが、実は掛け算も注意しなければいけません。数学では\n",
    "\n",
    "$$\n",
    "3\\begin{pmatrix}\n",
    "1 \\\\\n",
    "2 \\\\\n",
    "3\n",
    "\\end{pmatrix} = \\begin{pmatrix}\n",
    "3 \\\\\n",
    "6 \\\\\n",
    "9\n",
    "\\end{pmatrix}\n",
    "$$\n",
    "\n",
    "となります。しかし、pythonではどうでしょう。"
   ]
  },
  {
   "cell_type": "code",
   "execution_count": 4,
   "metadata": {},
   "outputs": [
    {
     "data": {
      "text/plain": [
       "[1, 2, 3, 1, 2, 3, 1, 2, 3]"
      ]
     },
     "execution_count": 4,
     "metadata": {},
     "output_type": "execute_result"
    }
   ],
   "source": [
    "3 * [1, 2, 3]"
   ]
  },
  {
   "cell_type": "markdown",
   "metadata": {},
   "source": [
    "同じ配列が3回続く配列ができました。これもプログラミングで比較的良く使われる動作だから、このように定義されています。\n",
    "\n",
    "このように、配列には注意をしなければいけません。勘違いして使うと、後から問題を探すのが難しいです。幸い、引き算や割り算に関しては何も定義されていませんので、配列同士を引き算したり割り算したりしようとすると、普通にエラーが出ます。"
   ]
  },
  {
   "cell_type": "code",
   "execution_count": 5,
   "metadata": {},
   "outputs": [
    {
     "ename": "TypeError",
     "evalue": "unsupported operand type(s) for -: 'list' and 'list'",
     "output_type": "error",
     "traceback": [
      "\u001b[0;31m---------------------------------------------------------------------------\u001b[0m",
      "\u001b[0;31mTypeError\u001b[0m                                 Traceback (most recent call last)",
      "\u001b[0;32m<ipython-input-5-ca1d87dcaf3d>\u001b[0m in \u001b[0;36m<module>\u001b[0;34m\u001b[0m\n\u001b[0;32m----> 1\u001b[0;31m \u001b[0;34m[\u001b[0m\u001b[0;36m1\u001b[0m\u001b[0;34m,\u001b[0m \u001b[0;36m2\u001b[0m\u001b[0;34m,\u001b[0m \u001b[0;36m3\u001b[0m\u001b[0;34m]\u001b[0m \u001b[0;34m-\u001b[0m \u001b[0;34m[\u001b[0m\u001b[0;36m2\u001b[0m\u001b[0;34m,\u001b[0m \u001b[0;36m3\u001b[0m\u001b[0;34m,\u001b[0m \u001b[0;36m4\u001b[0m\u001b[0;34m]\u001b[0m\u001b[0;34m\u001b[0m\u001b[0;34m\u001b[0m\u001b[0m\n\u001b[0m",
      "\u001b[0;31mTypeError\u001b[0m: unsupported operand type(s) for -: 'list' and 'list'"
     ]
    }
   ],
   "source": [
    "[1, 2, 3] - [2, 3, 4]"
   ]
  },
  {
   "cell_type": "code",
   "execution_count": null,
   "metadata": {},
   "outputs": [],
   "source": [
    "[1, 2, 3] / [1, 1, 1]"
   ]
  },
  {
   "cell_type": "markdown",
   "metadata": {},
   "source": [
    "一方、numpyの配列は、四則演算やその他の演算もできます。例えば："
   ]
  },
  {
   "cell_type": "code",
   "execution_count": null,
   "metadata": {},
   "outputs": [],
   "source": [
    "np.array([1, 2, 3]) + np.array([2, 3, 4])"
   ]
  },
  {
   "cell_type": "markdown",
   "metadata": {},
   "source": [
    "しかし、これ以上話す前に、numpyの配列の特徴について述べることにします。"
   ]
  },
  {
   "cell_type": "markdown",
   "metadata": {},
   "source": [
    "# `numpy.ndarray`\n",
    "\n",
    "numpyでは、**n次元配列**を適宜することができます。そしてその型の名前はもちろん`ndarray`（**n**-**d**imensional **array**）と呼びます。`ndarray`は、一般的にpythonの配列に対し`numpy.array`という関数を呼ぶことで作れます。つまり、ベクトル$\\begin{pmatrix}1 & 2 & 3\\end{pmatrix}$を作りたければ、以下のように書きます。"
   ]
  },
  {
   "cell_type": "code",
   "execution_count": null,
   "metadata": {},
   "outputs": [],
   "source": [
    "np.array([1, 2, 3])"
   ]
  },
  {
   "cell_type": "markdown",
   "metadata": {},
   "source": [
    "また、行列を作りたければ、以下のように作ります。"
   ]
  },
  {
   "cell_type": "code",
   "execution_count": null,
   "metadata": {},
   "outputs": [],
   "source": [
    "np.array([\n",
    "    [1, 2, 3],\n",
    "    [2, 3, 4],\n",
    "    [3, 4, 5]\n",
    "])"
   ]
  },
  {
   "cell_type": "markdown",
   "metadata": {},
   "source": [
    "行列は2次元配列ですが、numpyでは文字通り3次元や4次元、12345678次元配列も作れます。そして、イメージでしか無いが、n次元配列と言われたら、\n",
    "\n",
    "> 数の配列の配列．．．の配列\n",
    "\n",
    "の中に、「の配列」がn個あると思ってください。"
   ]
  },
  {
   "cell_type": "markdown",
   "metadata": {},
   "source": [
    "## よく使う`numpy.ndarray`の性質"
   ]
  },
  {
   "cell_type": "markdown",
   "metadata": {},
   "source": [
    "### `shape`\n",
    "\n",
    "numpy配列の次元と要素数を調べたいとき、`x.shape`と書くと、**タプル**（中身が定数の配列）が返ってきます。"
   ]
  },
  {
   "cell_type": "code",
   "execution_count": null,
   "metadata": {},
   "outputs": [],
   "source": [
    "x = np.array([\n",
    "    [1, 2, 3],\n",
    "    [4, 5, 6]\n",
    "])\n",
    "x.shape"
   ]
  },
  {
   "cell_type": "markdown",
   "metadata": {},
   "source": [
    "これはつまり次のことを言っています：\n",
    "\n",
    "> `x`は2つの要素を持ち、それぞれ配列で3つずつ要素持つ\n",
    "\n",
    "ということです。実際にコードを見ても、同じことが言えますね。\n",
    "\n",
    "では、次の2つの例も見てみましょう。"
   ]
  },
  {
   "cell_type": "code",
   "execution_count": null,
   "metadata": {},
   "outputs": [],
   "source": [
    "x = np.array([1, 2, 3])\n",
    "y = np.array([[1, 2, 3]])\n",
    "print(x.shape, y.shape)"
   ]
  },
  {
   "cell_type": "markdown",
   "metadata": {},
   "source": [
    "どういう意味でしょう。\n",
    "\n",
    "実は、numpyで配列の形で意識しなければいけないところがあります。上の二つは、厳密に言うと`x`は1次元配列、`y`は2次元配列（`x.shape`の要素=`x`の次元の数）。数学で考える時に、上はどちらも同じものとして扱われますが、numpyでは違います。この後行列の掛け算等の話をする時にも出て来ますが、配列の形を合わせなければいけない時があります。その時に、`x`を`y`にしたり、`y`を`x`にしたりする必要があります。その変換をどう行うのかというと、`reshape`という関数を使います。"
   ]
  },
  {
   "cell_type": "markdown",
   "metadata": {},
   "source": [
    "## `reshape`\n",
    "\n",
    "簡単に言うと、`reshape`というのは文字通り配列の形を変えるための関数です。早速使ってみましょう。"
   ]
  },
  {
   "cell_type": "code",
   "execution_count": null,
   "metadata": {},
   "outputs": [],
   "source": [
    "x = np.array([1, 2, 3])\n",
    "print(x.shape)\n",
    "x = x.reshape(3, 1)\n",
    "print(x.shape)"
   ]
  },
  {
   "cell_type": "markdown",
   "metadata": {},
   "source": [
    "このように、1次元配列を2次元配列に変換することができます。もう一つ例を試してみましょう。"
   ]
  },
  {
   "cell_type": "code",
   "execution_count": null,
   "metadata": {},
   "outputs": [],
   "source": [
    "x = np.array([1, 2, 3, 4])\n",
    "print(x.shape)\n",
    "x = x.reshape(2, 2)\n",
    "print(x.shape)\n",
    "print(x)\n"
   ]
  },
  {
   "cell_type": "markdown",
   "metadata": {},
   "source": [
    "このような使い方をすると、要素の数の配置を変えることもできます。しかし、ここでもちろん注意しなければいけない点があり、`reshape`の中に元の配列と合わないものを入れたら当然エラーげ出てきます。"
   ]
  },
  {
   "cell_type": "code",
   "execution_count": null,
   "metadata": {},
   "outputs": [],
   "source": [
    "x = np.array([1, 2, 3])\n",
    "x.reshape(3, 3)"
   ]
  },
  {
   "cell_type": "markdown",
   "metadata": {},
   "source": [
    "## `T`\n",
    "\n",
    "最後に、行列を扱う時に役に立つものを紹介しましょう。数学で行列の転置を示す時に、$M^T$と書きます。これに因んで、numpyも同じように、`x.T`で転置をとることができます。"
   ]
  },
  {
   "cell_type": "code",
   "execution_count": null,
   "metadata": {},
   "outputs": [],
   "source": [
    "x = np.array([\n",
    "    [1, 2, 3],\n",
    "    [4, 5, 6]\n",
    "])\n",
    "x.T"
   ]
  },
  {
   "cell_type": "markdown",
   "metadata": {},
   "source": [
    "他にもnumpy配列の特徴はいっぱいありますが、気になる人は[numpyのドキュメンテーション](https://docs.scipy.org/doc/numpy/reference/arrays.ndarray.html)を読みましょう。"
   ]
  },
  {
   "cell_type": "markdown",
   "metadata": {},
   "source": [
    "# `numpy.ndarray`に対する演算"
   ]
  },
  {
   "cell_type": "markdown",
   "metadata": {},
   "source": [
    "## 数との演算\n",
    "\n",
    "配列同士の演算を除き、numpy配列に対し何か演算をする時、それが全ての要素に適用されます。例えば："
   ]
  },
  {
   "cell_type": "code",
   "execution_count": null,
   "metadata": {},
   "outputs": [],
   "source": [
    "x = np.array([\n",
    "    [1, 2, 3],\n",
    "    [4, 5, 6]\n",
    "])\n",
    "3 * x"
   ]
  },
  {
   "cell_type": "code",
   "execution_count": null,
   "metadata": {},
   "outputs": [],
   "source": [
    "x + 10"
   ]
  },
  {
   "cell_type": "code",
   "execution_count": null,
   "metadata": {},
   "outputs": [],
   "source": [
    "x ** 1.23 # xの1.23乗"
   ]
  },
  {
   "cell_type": "code",
   "execution_count": null,
   "metadata": {},
   "outputs": [],
   "source": [
    "np.e ** x # eのx乗"
   ]
  },
  {
   "cell_type": "code",
   "execution_count": null,
   "metadata": {},
   "outputs": [],
   "source": [
    "3 / x"
   ]
  },
  {
   "cell_type": "markdown",
   "metadata": {},
   "source": [
    "というように、全ての要素に対し、四則演算、そしてべき乗算ができます。\n",
    "\n",
    "また、数学で良く使う三角関数や、べき乗関数等、絶対値関数、対数関数、などなど[numpyの中にある様々な関数](https://docs.scipy.org/doc/numpy/reference/routines.math.html)を`x`の各要素に対して計算できます。"
   ]
  },
  {
   "cell_type": "code",
   "execution_count": null,
   "metadata": {},
   "outputs": [],
   "source": [
    "np.sin(x)"
   ]
  },
  {
   "cell_type": "code",
   "execution_count": null,
   "metadata": {},
   "outputs": [],
   "source": [
    "np.cosh(x)"
   ]
  },
  {
   "cell_type": "code",
   "execution_count": null,
   "metadata": {},
   "outputs": [],
   "source": [
    "np.log(x) # eに対するlog"
   ]
  },
  {
   "cell_type": "code",
   "execution_count": null,
   "metadata": {},
   "outputs": [],
   "source": [
    "np.radians(x) # 角度をラジアンに変換"
   ]
  },
  {
   "cell_type": "markdown",
   "metadata": {},
   "source": [
    "なお、上の全ての関数はただの数に対しても使うことができます。例えば"
   ]
  },
  {
   "cell_type": "code",
   "execution_count": null,
   "metadata": {},
   "outputs": [],
   "source": [
    "np.cos(0)"
   ]
  },
  {
   "cell_type": "markdown",
   "metadata": {},
   "source": [
    "## `numpy.ndarray`同士の演算とBroadcasting\n",
    "\n",
    "numpyで**次元が同じもの同士**に対して演算したい時、そのまま演算子を使えば、結果が出てきます。その時、演算はそれぞれの要素毎に行われます。つまり："
   ]
  },
  {
   "cell_type": "code",
   "execution_count": null,
   "metadata": {},
   "outputs": [],
   "source": [
    "x = np.array([1, 2, 3])\n",
    "y = np.array([4, 5, 6])\n",
    "x + y"
   ]
  },
  {
   "cell_type": "code",
   "execution_count": null,
   "metadata": {},
   "outputs": [],
   "source": [
    "x * y"
   ]
  },
  {
   "cell_type": "code",
   "execution_count": null,
   "metadata": {},
   "outputs": [],
   "source": [
    "x ** y"
   ]
  },
  {
   "cell_type": "markdown",
   "metadata": {},
   "source": [
    "しかし、numpyの力は、**次元が違っても演算できる**というところにあります。例えば、ある行列の全ての行に、ベクトルを足したいとき、以下を書けばいいです。"
   ]
  },
  {
   "cell_type": "code",
   "execution_count": null,
   "metadata": {},
   "outputs": [],
   "source": [
    "M = np.array([\n",
    "    [1, 2, 3],\n",
    "    [4, 5, 6]\n",
    "])\n",
    "M + x"
   ]
  },
  {
   "cell_type": "markdown",
   "metadata": {},
   "source": [
    "しかし、これで何でもできるわけではありません。次の例をみてみましょう。"
   ]
  },
  {
   "cell_type": "code",
   "execution_count": null,
   "metadata": {},
   "outputs": [],
   "source": [
    "M = np.array([\n",
    "    [1, 2],\n",
    "    [3, 4],\n",
    "    [5, 6]\n",
    "])\n",
    "\n",
    "M + x"
   ]
  },
  {
   "cell_type": "markdown",
   "metadata": {},
   "source": [
    "何が起きたのかというと、**shapeの後ろが不一致**なので、演算ができなかったです。\n",
    "\n",
    "numpyのこの機能のことを**broadcasting**と呼びます。broadcastingの詳しい説明は[ドキュメンテーション](https://docs.scipy.org/doc/numpy/user/basics.broadcasting.html)に書いてありますので、気になる人は読みましょう。いずれにしても、一番簡単な捉え方は**shapeの後ろが一致してれば演算できる**ということです。\n",
    "\n",
    "もういくつかの例をみてみましょう。"
   ]
  },
  {
   "cell_type": "code",
   "execution_count": null,
   "metadata": {},
   "outputs": [],
   "source": [
    "M = np.array([\n",
    "    [1, 2],\n",
    "    [3, 4],\n",
    "    [5, 6]\n",
    "])\n",
    "x = np.array([1, 2])\n",
    "print(M.shape, x.shape)\n",
    "M * x"
   ]
  },
  {
   "cell_type": "code",
   "execution_count": null,
   "metadata": {},
   "outputs": [],
   "source": [
    "T = np.array([\n",
    "    [\n",
    "        [1, 2, 3],\n",
    "        [4, 5, 6]\n",
    "    ],\n",
    "    [\n",
    "        [7, 8, 9],\n",
    "        [10, 11, 12]\n",
    "    ]\n",
    "])\n",
    "M = np.array([\n",
    "    [1, 1, 1],\n",
    "    [2, 2, 2]\n",
    "])\n",
    "\n",
    "T - M"
   ]
  },
  {
   "cell_type": "markdown",
   "metadata": {},
   "source": [
    "## 行列積\n",
    "\n",
    "数値解析で行列積は必要不可欠です。行列の要素毎の積ではなく、行列積をとりたい時は`@`演算子を使います。ただし、行列の`shape`はもちろん合致しなければいけません。これは数学と同じで、`x.shape = (m, n)`と`y.shape = (n, k)`なら、`(x @ y).shape = (m, k)`となります。"
   ]
  },
  {
   "cell_type": "code",
   "execution_count": null,
   "metadata": {},
   "outputs": [],
   "source": [
    "M1 = np.array([\n",
    "    [1, 2, 3],\n",
    "    [4, 5, 6]\n",
    "])\n",
    "M2 = np.array([\n",
    "    [1, 2],\n",
    "    [3, 4],\n",
    "    [5, 6]\n",
    "    \n",
    "])\n",
    "\n",
    "M3 = M1 @ M2\n",
    "\n",
    "print(M1.shape, M2.shape, M3.shape)\n",
    "M3"
   ]
  },
  {
   "cell_type": "markdown",
   "metadata": {},
   "source": [
    "しかし、実はここでもbroadcastingが使えます！例えば、配列`A`が行列の配列だとして、`A`の全ての要素に対し`B`を書けたいとき、以下のように書けばできます。"
   ]
  },
  {
   "cell_type": "code",
   "execution_count": null,
   "metadata": {},
   "outputs": [],
   "source": [
    "A = np.array([\n",
    "    [\n",
    "        [1, 2],\n",
    "        [2, 1],\n",
    "        [1, 2]\n",
    "    ],\n",
    "    [\n",
    "        [2, 3],\n",
    "        [3, 2],\n",
    "        [2, 3]\n",
    "    ],\n",
    "    [\n",
    "        [3, 4],\n",
    "        [4, 3],\n",
    "        [3, 4]\n",
    "    ]\n",
    "])\n",
    "\n",
    "B = np.array([\n",
    "    [-1, 0],\n",
    "    [0, -1]\n",
    "])\n",
    "\n",
    "C = A @ B\n",
    "print(A.shape, B.shape, C.shape)\n",
    "C"
   ]
  },
  {
   "cell_type": "markdown",
   "metadata": {},
   "source": [
    "最後に、1次元配列（ベクトル）と行列の行列積をとるときは、ベクトルが左ならば行ベクトル、右ならば列ベクトルとして扱われます。その時、行列のそれぞれの次元に合わせなければならないので注意しましょう。"
   ]
  },
  {
   "cell_type": "code",
   "execution_count": null,
   "metadata": {},
   "outputs": [],
   "source": [
    "M1 = np.array([\n",
    "    [1, 2, 3],\n",
    "    [4, 5, 6]\n",
    "])\n",
    "A = np.array([1, 1])\n",
    "\n",
    "print(A.shape, M1.shape)\n",
    "A @ M1"
   ]
  },
  {
   "cell_type": "code",
   "execution_count": null,
   "metadata": {},
   "outputs": [],
   "source": [
    "print(M1.shape, A.shape)\n",
    "M1 @ A # 次元が合わない"
   ]
  },
  {
   "cell_type": "markdown",
   "metadata": {},
   "source": [
    "## 次元を変える演算\n",
    "\n",
    "時々、というかかなりの頻度で、$\\sum$や$\\prod$を使う式があります。例えば以下の式をみてみましょう。\n",
    "\n",
    "$$\n",
    "S = \\sum_i^N{a_i}\n",
    "$$\n",
    "\n",
    "この時、$a$が配列だと考えて、$S$は配列を一つの数にしたものですよね。このような計算はnumpyでは以下のように書きます。"
   ]
  },
  {
   "cell_type": "code",
   "execution_count": null,
   "metadata": {},
   "outputs": [],
   "source": [
    "a = np.array([1, 2, 3, 4])\n",
    "np.sum(a)"
   ]
  },
  {
   "cell_type": "markdown",
   "metadata": {},
   "source": [
    "しかし、これだけだとつまらないですね。次は行列に対して`numpy.sum`を使ってみましょう。"
   ]
  },
  {
   "cell_type": "code",
   "execution_count": null,
   "metadata": {},
   "outputs": [],
   "source": [
    "M = np.array([\n",
    "    [1, 2, 3],\n",
    "    [4, 5, 6]\n",
    "])\n",
    "np.sum(M)"
   ]
  },
  {
   "cell_type": "markdown",
   "metadata": {},
   "source": [
    "同じく全ての要素の和が出力されますね。でも実は、違う足し方を指定することができます。[`numpy.sum`の定義](https://docs.scipy.org/doc/numpy/reference/generated/numpy.sum.html#numpy.sum)を見ると、`axis`という引数を受け取ることがわかります。この`axis`というのは、どの次元に対して和をとるか、という意味です。指定してみて結果を確認しましょう。"
   ]
  },
  {
   "cell_type": "code",
   "execution_count": null,
   "metadata": {},
   "outputs": [],
   "source": [
    "np.sum(M, axis=0)"
   ]
  },
  {
   "cell_type": "code",
   "execution_count": null,
   "metadata": {},
   "outputs": [],
   "source": [
    "np.sum(M, axis=1)"
   ]
  },
  {
   "cell_type": "markdown",
   "metadata": {},
   "source": [
    "何が起こっているかわかりますか？\n",
    "\n",
    "numpy配列は「数の配列の配列の配列．．．」だと先程言いました。この中で、何番目「配列」に対して和をとるかというのが`axis`の値です。`axis=0`の時は一番右の配列、つまり一番外側の配列に対して和をとるという意味になります。\n",
    "\n",
    "これをわかりやすくするために、次の3次元配列を考えましょう。"
   ]
  },
  {
   "cell_type": "code",
   "execution_count": null,
   "metadata": {},
   "outputs": [],
   "source": [
    "T = np.array([\n",
    "    [\n",
    "        [1, 2, 3],\n",
    "        [4, 5, 6]\n",
    "    ],\n",
    "    [\n",
    "        [7, 8, 9],\n",
    "        [10, 11, 12]\n",
    "    ]\n",
    "])\n",
    "T"
   ]
  },
  {
   "cell_type": "markdown",
   "metadata": {},
   "source": [
    "ここで`T`のことを、「二つの行列を重ねたもの」だと思ってください。この時、それぞれの`axis`で和をとるとどうなるかみていきましょう。"
   ]
  },
  {
   "cell_type": "code",
   "execution_count": null,
   "metadata": {},
   "outputs": [],
   "source": [
    "np.sum(T, axis=0)"
   ]
  },
  {
   "cell_type": "markdown",
   "metadata": {},
   "source": [
    "`axis=0`は一番外側の配列を指すので、重ねた行列を要素毎足すのと同じです。つまり\n",
    "\n",
    "$$\n",
    "\\begin{pmatrix}\n",
    "1 & 2 & 3 \\\\\n",
    "4 & 5 & 6\n",
    "\\end{pmatrix} + \n",
    "\\begin{pmatrix}\n",
    "7 & 8 & 9 \\\\\n",
    "10 & 11 & 12\n",
    "\\end{pmatrix}\n",
    "$$"
   ]
  },
  {
   "cell_type": "code",
   "execution_count": null,
   "metadata": {},
   "outputs": [],
   "source": [
    "np.sum(T, axis=1)"
   ]
  },
  {
   "cell_type": "markdown",
   "metadata": {},
   "source": [
    "`axis=1`は2番目の配列という意味なので、それぞれの行列の行の和という演算になります。つまり\n",
    "\n",
    "$$\n",
    "\\begin{pmatrix}\n",
    "1 & 2 & 3 \\\\\n",
    "4 & 5 & 6\n",
    "\\end{pmatrix} \\to\n",
    "\\begin{pmatrix} 1 & 2 & 3 \\end{pmatrix} + \\begin{pmatrix} 4 & 5 & 6 \\end{pmatrix}\n",
    "$$\n",
    "\n",
    "$$\n",
    "\\begin{pmatrix}\n",
    "7 & 8 & 9 \\\\\n",
    "10 & 11 & 12\n",
    "\\end{pmatrix} \\to\n",
    "\\begin{pmatrix} 7 & 8 & 9 \\end{pmatrix} + \\begin{pmatrix} 10 & 11 & 12 \\end{pmatrix}\n",
    "$$"
   ]
  },
  {
   "cell_type": "code",
   "execution_count": null,
   "metadata": {},
   "outputs": [],
   "source": [
    "np.sum(T, axis=2)"
   ]
  },
  {
   "cell_type": "markdown",
   "metadata": {},
   "source": [
    "`axis=2`は3番目の配列という意味なので、それぞれの行列の、それぞれの行の、要素の和という意味になります。つまり\n",
    "\n",
    "$$\n",
    "\\begin{aligned}\n",
    "\\begin{pmatrix} 1 & 2 & 3 \\end{pmatrix} &\\to 1 + 2 + 3 \\\\\n",
    "\\begin{pmatrix} 4 & 5 & 6 \\end{pmatrix} &\\to 4 + 5 + 6 \\\\\n",
    "& \\\\\n",
    "\\begin{pmatrix} 7 & 8 & 9 \\end{pmatrix} &\\to 7 + 8 + 9 \\\\\n",
    "\\begin{pmatrix} 10 & 11 & 12 \\end{pmatrix} &\\to 10 + 11 + 12 \\\\\n",
    "\\end{aligned}\n",
    "$$"
   ]
  },
  {
   "cell_type": "markdown",
   "metadata": {},
   "source": [
    "このような計算は、ある次元をreduceすると言います。`numpy.sum`の他に、`numpy.prod`等もあります。"
   ]
  },
  {
   "cell_type": "markdown",
   "metadata": {},
   "source": [
    "# `numpy`で数値を生成する\n",
    "\n",
    "多次元配列の演算も便利ですが、numpyのデータ生成機能もとても便利です。これからよく使う関数について簡単に解説していきます。"
   ]
  },
  {
   "cell_type": "markdown",
   "metadata": {},
   "source": [
    "## `numpy.linspace`\n",
    "\n",
    "点`A`から点`B`までの（多次元）直線上にある点を`n`個、等間隔で生成してくれます。"
   ]
  },
  {
   "cell_type": "code",
   "execution_count": null,
   "metadata": {},
   "outputs": [],
   "source": [
    "np.linspace(0, 10, 5)"
   ]
  },
  {
   "cell_type": "code",
   "execution_count": null,
   "metadata": {},
   "outputs": [],
   "source": [
    "A = np.array([0, 0])\n",
    "B = np.array([10, 5])\n",
    "np.linspace(A, B, 5)"
   ]
  },
  {
   "cell_type": "code",
   "execution_count": null,
   "metadata": {},
   "outputs": [],
   "source": [
    "A = np.array([0, 0, 0])\n",
    "B = np.array([1, -5, 4])\n",
    "np.linspace(A, B, 5)"
   ]
  },
  {
   "cell_type": "markdown",
   "metadata": {},
   "source": [
    "## `numpy.arange`\n",
    "\n",
    "`A`から`B`未満の数を間隔`t`で生成してくれます。"
   ]
  },
  {
   "cell_type": "code",
   "execution_count": 6,
   "metadata": {},
   "outputs": [
    {
     "data": {
      "text/plain": [
       "array([ 0,  5, 10, 15, 20, 25, 30, 35, 40, 45])"
      ]
     },
     "execution_count": 6,
     "metadata": {},
     "output_type": "execute_result"
    }
   ],
   "source": [
    "np.arange(0, 50, 5)"
   ]
  },
  {
   "cell_type": "markdown",
   "metadata": {},
   "source": [
    "## `numpy.ones`と`numpy.zeros`\n",
    "\n",
    "それぞれ1か0の配列を生成してくれます。"
   ]
  },
  {
   "cell_type": "code",
   "execution_count": 7,
   "metadata": {},
   "outputs": [
    {
     "data": {
      "text/plain": [
       "array([1., 1., 1., 1., 1.])"
      ]
     },
     "execution_count": 7,
     "metadata": {},
     "output_type": "execute_result"
    }
   ],
   "source": [
    "np.ones(5)"
   ]
  },
  {
   "cell_type": "code",
   "execution_count": 8,
   "metadata": {},
   "outputs": [
    {
     "data": {
      "text/plain": [
       "array([[0., 0., 0., 0., 0.],\n",
       "       [0., 0., 0., 0., 0.],\n",
       "       [0., 0., 0., 0., 0.]])"
      ]
     },
     "execution_count": 8,
     "metadata": {},
     "output_type": "execute_result"
    }
   ],
   "source": [
    "np.zeros( (3, 5) )"
   ]
  },
  {
   "cell_type": "markdown",
   "metadata": {},
   "source": [
    "## `numpy.ones_like`と`numpy.zeros_like`\n",
    "\n",
    "ある配列と同じ次元の、1か0の配列を生成してくれます。"
   ]
  },
  {
   "cell_type": "code",
   "execution_count": 9,
   "metadata": {},
   "outputs": [
    {
     "data": {
      "text/plain": [
       "array([[1, 1, 1],\n",
       "       [1, 1, 1]])"
      ]
     },
     "execution_count": 9,
     "metadata": {},
     "output_type": "execute_result"
    }
   ],
   "source": [
    "x = np.array([\n",
    "    [1, 2, 3],\n",
    "    [4, 5, 6]\n",
    "])\n",
    "\n",
    "np.ones_like(x)"
   ]
  },
  {
   "cell_type": "code",
   "execution_count": 10,
   "metadata": {},
   "outputs": [
    {
     "data": {
      "text/plain": [
       "array([[0, 0, 0],\n",
       "       [0, 0, 0]])"
      ]
     },
     "execution_count": 10,
     "metadata": {},
     "output_type": "execute_result"
    }
   ],
   "source": [
    "np.zeros_like(x)"
   ]
  },
  {
   "cell_type": "markdown",
   "metadata": {},
   "source": [
    "## `numpy.meshgrid`\n",
    "\n",
    "1次元配列を`n`個受け取って、それぞれの組み合わせからなる座標行列を生成してくれます。段階的に例をみていきましょう。"
   ]
  },
  {
   "cell_type": "code",
   "execution_count": 11,
   "metadata": {},
   "outputs": [
    {
     "name": "stdout",
     "output_type": "stream",
     "text": [
      "[0. 1. 2. 3. 4.]\n",
      "[ 0. -1. -2. -3. -4. -5. -6. -7. -8. -9.]\n"
     ]
    }
   ],
   "source": [
    "x = np.linspace(0, 4, 5)\n",
    "y = np.linspace(0, -9, 10)\n",
    "print(x)\n",
    "print(y)"
   ]
  },
  {
   "cell_type": "markdown",
   "metadata": {},
   "source": [
    "これらに対し`numpy.meshgrid`を使うと、それぞれ`x`と`y`の行列が返ってきます。"
   ]
  },
  {
   "cell_type": "code",
   "execution_count": 12,
   "metadata": {},
   "outputs": [
    {
     "name": "stdout",
     "output_type": "stream",
     "text": [
      "[[0. 1. 2. 3. 4.]\n",
      " [0. 1. 2. 3. 4.]\n",
      " [0. 1. 2. 3. 4.]\n",
      " [0. 1. 2. 3. 4.]\n",
      " [0. 1. 2. 3. 4.]\n",
      " [0. 1. 2. 3. 4.]\n",
      " [0. 1. 2. 3. 4.]\n",
      " [0. 1. 2. 3. 4.]\n",
      " [0. 1. 2. 3. 4.]\n",
      " [0. 1. 2. 3. 4.]]\n",
      "\n",
      "[[ 0.  0.  0.  0.  0.]\n",
      " [-1. -1. -1. -1. -1.]\n",
      " [-2. -2. -2. -2. -2.]\n",
      " [-3. -3. -3. -3. -3.]\n",
      " [-4. -4. -4. -4. -4.]\n",
      " [-5. -5. -5. -5. -5.]\n",
      " [-6. -6. -6. -6. -6.]\n",
      " [-7. -7. -7. -7. -7.]\n",
      " [-8. -8. -8. -8. -8.]\n",
      " [-9. -9. -9. -9. -9.]]\n"
     ]
    }
   ],
   "source": [
    "xx, yy = np.meshgrid(x, y)\n",
    "print(xx)\n",
    "print()\n",
    "print(yy)"
   ]
  },
  {
   "cell_type": "markdown",
   "metadata": {},
   "source": [
    "この行列は同じ形をしているので、重ねてみると、対応し合う要素が座標になります。つまり、`xx[1][1]`と`yy[1][1]`を例にとると、それが点`(1, -1)`を意味します。\n",
    "\n",
    "ここは例外的に、イメージしてもらうために一回だけ別のライブラリーを使って、上のデータをプロットします。"
   ]
  },
  {
   "cell_type": "code",
   "execution_count": 13,
   "metadata": {},
   "outputs": [],
   "source": [
    "import matplotlib\n",
    "import matplotlib.pyplot as plt"
   ]
  },
  {
   "cell_type": "code",
   "execution_count": 14,
   "metadata": {},
   "outputs": [
    {
     "data": {
      "text/plain": [
       "(-10, 1)"
      ]
     },
     "execution_count": 14,
     "metadata": {},
     "output_type": "execute_result"
    },
    {
     "data": {
      "image/png": "[encoded data removed]",
      "text/plain": [
       "<Figure size 432x288 with 1 Axes>"
      ]
     },
     "metadata": {
      "needs_background": "light"
     },
     "output_type": "display_data"
    }
   ],
   "source": [
    "plt.scatter(xx, yy)\n",
    "plt.xlim(-1, 5)\n",
    "plt.ylim(-10, 1)"
   ]
  },
  {
   "cell_type": "markdown",
   "metadata": {},
   "source": [
    "このように、`xx`と`yy`はそれぞれの点のx座標とy座標を表しています。なお、同じように、`xx, yy, zz = np.meshgrid(x, y, z)`というように描くと、平面ではなく立方体の形をした点ができ、同じように次元をもっと増やすこともできます。"
   ]
  },
  {
   "cell_type": "markdown",
   "metadata": {},
   "source": [
    "## `numpy.random`\n",
    "\n",
    "[`numpy.random`というサブモジュールには](https://docs.scipy.org/doc/numpy-1.15.0/reference/routines.random.html)、乱数を生成するための関数があります。ここでは一番良く使う`numpy.random.rand`だけを紹介します。他の関数はぜひ各自で調べましょう。\n",
    "\n",
    "`np.random.rand`は、一様分布に従う点を好きな次元で生成してくれます。"
   ]
  },
  {
   "cell_type": "code",
   "execution_count": 15,
   "metadata": {},
   "outputs": [
    {
     "data": {
      "text/plain": [
       "array([0.29183718, 0.34068106, 0.53165653, 0.73773437, 0.23106769])"
      ]
     },
     "execution_count": 15,
     "metadata": {},
     "output_type": "execute_result"
    }
   ],
   "source": [
    "np.random.rand(5)"
   ]
  },
  {
   "cell_type": "code",
   "execution_count": 16,
   "metadata": {},
   "outputs": [
    {
     "data": {
      "text/plain": [
       "array([[0.08417681, 0.04500776, 0.04353293],\n",
       "       [0.41719983, 0.28308772, 0.09892462],\n",
       "       [0.17590245, 0.2853008 , 0.43102579]])"
      ]
     },
     "execution_count": 16,
     "metadata": {},
     "output_type": "execute_result"
    }
   ],
   "source": [
    "np.random.rand(3, 3)"
   ]
  },
  {
   "cell_type": "markdown",
   "metadata": {},
   "source": [
    "# まとめ\n",
    "\n",
    "numpyの基礎的な概念と便利な関数について解説しました。しかし、これはnumpyの表面を触っただけであり、深く掘れば掘るほど面白い関数があります。なので、これだけで満足せずに、何か新しいことをしたければぜひ自分たちで調べましょう。それから、[numpyのドキュメンテーション](https://docs.scipy.org/doc/numpy/reference/index.html)に一度目を通してみましょう。どんな機能があるか、どんな関数があるか、関数名だけで分かるものもあるので、大雑把でもいいので把握しておきましょう。"
   ]
  }
 ],
 "metadata": {
  "kernelspec": {
   "display_name": "Python 3",
   "language": "python",
   "name": "python3"
  },
  "language_info": {
   "codemirror_mode": {
    "name": "ipython",
    "version": 3
   },
   "file_extension": ".py",
   "mimetype": "text/x-python",
   "name": "python",
   "nbconvert_exporter": "python",
   "pygments_lexer": "ipython3",
   "version": "3.7.4"
  }
 },
 "nbformat": 4,
 "nbformat_minor": 2
}
